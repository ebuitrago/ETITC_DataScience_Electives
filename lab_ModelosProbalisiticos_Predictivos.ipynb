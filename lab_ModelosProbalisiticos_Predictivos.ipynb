{
  "nbformat": 4,
  "nbformat_minor": 0,
  "metadata": {
    "colab": {
      "provenance": [],
      "collapsed_sections": [
        "qUEw9vVNJMxZ"
      ]
    },
    "kernelspec": {
      "name": "python3",
      "display_name": "Python 3"
    },
    "language_info": {
      "name": "python"
    }
  },
  "cells": [
    {
      "cell_type": "markdown",
      "source": [
        "#Laboratorio Modelos Probabilísticos Predictivos\n",
        "__Escuela Tecnológica Instituto Técnico Central__\\\n",
        "__Ingeniería de Sistemas__\\\n",
        "***Electiva  Técnica IV: Ciencia de Datos*** \\\n",
        "*Profesor: Elias Buitrago Bolivar* \\\n",
        "\n",
        "En este laboratorio se exploran tres métodos que permiten generar modelos predictivos. Los tres métodos se circunscriben en un marco de trabajo probabilístico. Es decir, tienen en común que incorporan la teoría de la probabilidad en sus enfoques de modelado y predicción. Estos modelos predictivos probabilísticos pueden dar una gama de posibles valores con diferentes niveles de probabilidad asociados a cada uno. Esto significa que no solo obtienes una estimación puntual, sino también una idea de qué tan segura es esa estimación y qué tan probable es que otros valores también sean posibles. Esto es muy útil en situaciones donde la certeza de la predicción es importante y puede influir en la toma de decisiones críticas. Los métodos comparados en este laboratorio son los siguientes:\n",
        "* *Regresión Lineal Probabilística* (PLR): modela la incertidumbre en las predicciones mediante la estimación de distribuciones de probabilidad para las salidas.\n",
        "* *Regresión Logística Bayesiana* (BLR): basado en la teoría bayesiana para estimar la probabilidad de pertenencia a una clase en problemas de clasificación.\n",
        "* *Árboles de Decisión Probabilísticos* (PDT), utilizan la asignación de distribuciones de probabilidad a las ramas del árbol.\n",
        "\n",
        "\n"
      ],
      "metadata": {
        "id": "Utx5IxnNtJFW"
      }
    },
    {
      "cell_type": "markdown",
      "source": [
        "## Introducción"
      ],
      "metadata": {
        "id": "vBgrZxSetvQy"
      }
    },
    {
      "cell_type": "markdown",
      "source": [
        "## Caso de estudio \\#1: Modelo Predictivo Precio de Vehículo Usados"
      ],
      "metadata": {
        "id": "YaecSQdGuMZ4"
      }
    },
    {
      "cell_type": "markdown",
      "source": [
        "### Usando los siguientes modelos:\n",
        "1. Regresión Lineal\n",
        "2. Árboles de Decisión\n",
        "3. Maquinás de Vectores de Soportes para Regesión"
      ],
      "metadata": {
        "id": "XYyILpYLGBJN"
      }
    },
    {
      "cell_type": "code",
      "execution_count": null,
      "metadata": {
        "id": "8WYQ35vqtHs9"
      },
      "outputs": [],
      "source": [
        "import pandas as pd\n",
        "from sklearn.model_selection import train_test_split\n",
        "from sklearn.preprocessing import StandardScaler\n",
        "from sklearn.linear_model import LinearRegression\n",
        "from sklearn.tree import DecisionTreeRegressor\n",
        "from sklearn.svm import SVR\n",
        "from sklearn.metrics import mean_squared_error, r2_score\n",
        "import matplotlib.pyplot as plt"
      ]
    },
    {
      "cell_type": "code",
      "source": [
        "# Cargar los datos\n",
        "# url = \"https://raw.githubusercontent.com/ebuitrago/ETITC_DataScience_Electives/main/data/usedCarsCol_190224_small2Clean.csv\"\n",
        "# url = \"https://raw.githubusercontent.com/ebuitrago/ETITC_DataScience_Electives/main/data/usedCarsCol_rio_120324_small.csv\"\n",
        "url = \"https://raw.githubusercontent.com/ebuitrago/ETITC_DataScience_Electives/main/data/usedCarsCol_onix_120324.csv\"\n",
        "data = pd.read_csv(url)"
      ],
      "metadata": {
        "id": "jqnHGBTv7TJY"
      },
      "execution_count": null,
      "outputs": []
    },
    {
      "cell_type": "code",
      "source": [
        "data['price'] = data['price'].astype(str)\n",
        "data['price'] = data['price'].str.replace(r'\\D', '').astype(int)"
      ],
      "metadata": {
        "colab": {
          "base_uri": "https://localhost:8080/"
        },
        "id": "Mj-Zrc1lAd-_",
        "outputId": "b70701ff-5ff2-462b-f003-2308c4e0ab81"
      },
      "execution_count": null,
      "outputs": [
        {
          "output_type": "stream",
          "name": "stderr",
          "text": [
            "<ipython-input-36-d7a66c422863>:2: FutureWarning: The default value of regex will change from True to False in a future version.\n",
            "  data['price'] = data['price'].str.replace(r'\\D', '').astype(int)\n"
          ]
        }
      ]
    },
    {
      "cell_type": "code",
      "source": [
        "data.head()"
      ],
      "metadata": {
        "colab": {
          "base_uri": "https://localhost:8080/",
          "height": 206
        },
        "id": "b27uetZkCHW8",
        "outputId": "c2ba5844-4200-484c-8a44-911ac64e2542"
      },
      "execution_count": null,
      "outputs": [
        {
          "output_type": "execute_result",
          "data": {
            "text/plain": [
              "                        car_model     price  year_model    kms\n",
              "0  Chevrolet Onix 1.0t Automática  57900000        2021  38500\n",
              "1           Chevrolet Onix 1.4 Lt  49000000        2021  42000\n",
              "2           Chevrolet Onix Lt 1.0  55900000        2021  38000\n",
              "3      Chevrolet Onix 1.4 Ltz Aut  46000000        2019  56000\n",
              "4          Chevrolet Onix 1.4 Ltz  43000000        2016  47096"
            ],
            "text/html": [
              "\n",
              "  <div id=\"df-64f409c6-80ca-4af5-8898-efd3a3ab450e\" class=\"colab-df-container\">\n",
              "    <div>\n",
              "<style scoped>\n",
              "    .dataframe tbody tr th:only-of-type {\n",
              "        vertical-align: middle;\n",
              "    }\n",
              "\n",
              "    .dataframe tbody tr th {\n",
              "        vertical-align: top;\n",
              "    }\n",
              "\n",
              "    .dataframe thead th {\n",
              "        text-align: right;\n",
              "    }\n",
              "</style>\n",
              "<table border=\"1\" class=\"dataframe\">\n",
              "  <thead>\n",
              "    <tr style=\"text-align: right;\">\n",
              "      <th></th>\n",
              "      <th>car_model</th>\n",
              "      <th>price</th>\n",
              "      <th>year_model</th>\n",
              "      <th>kms</th>\n",
              "    </tr>\n",
              "  </thead>\n",
              "  <tbody>\n",
              "    <tr>\n",
              "      <th>0</th>\n",
              "      <td>Chevrolet Onix 1.0t Automática</td>\n",
              "      <td>57900000</td>\n",
              "      <td>2021</td>\n",
              "      <td>38500</td>\n",
              "    </tr>\n",
              "    <tr>\n",
              "      <th>1</th>\n",
              "      <td>Chevrolet Onix 1.4 Lt</td>\n",
              "      <td>49000000</td>\n",
              "      <td>2021</td>\n",
              "      <td>42000</td>\n",
              "    </tr>\n",
              "    <tr>\n",
              "      <th>2</th>\n",
              "      <td>Chevrolet Onix Lt 1.0</td>\n",
              "      <td>55900000</td>\n",
              "      <td>2021</td>\n",
              "      <td>38000</td>\n",
              "    </tr>\n",
              "    <tr>\n",
              "      <th>3</th>\n",
              "      <td>Chevrolet Onix 1.4 Ltz Aut</td>\n",
              "      <td>46000000</td>\n",
              "      <td>2019</td>\n",
              "      <td>56000</td>\n",
              "    </tr>\n",
              "    <tr>\n",
              "      <th>4</th>\n",
              "      <td>Chevrolet Onix 1.4 Ltz</td>\n",
              "      <td>43000000</td>\n",
              "      <td>2016</td>\n",
              "      <td>47096</td>\n",
              "    </tr>\n",
              "  </tbody>\n",
              "</table>\n",
              "</div>\n",
              "    <div class=\"colab-df-buttons\">\n",
              "\n",
              "  <div class=\"colab-df-container\">\n",
              "    <button class=\"colab-df-convert\" onclick=\"convertToInteractive('df-64f409c6-80ca-4af5-8898-efd3a3ab450e')\"\n",
              "            title=\"Convert this dataframe to an interactive table.\"\n",
              "            style=\"display:none;\">\n",
              "\n",
              "  <svg xmlns=\"http://www.w3.org/2000/svg\" height=\"24px\" viewBox=\"0 -960 960 960\">\n",
              "    <path d=\"M120-120v-720h720v720H120Zm60-500h600v-160H180v160Zm220 220h160v-160H400v160Zm0 220h160v-160H400v160ZM180-400h160v-160H180v160Zm440 0h160v-160H620v160ZM180-180h160v-160H180v160Zm440 0h160v-160H620v160Z\"/>\n",
              "  </svg>\n",
              "    </button>\n",
              "\n",
              "  <style>\n",
              "    .colab-df-container {\n",
              "      display:flex;\n",
              "      gap: 12px;\n",
              "    }\n",
              "\n",
              "    .colab-df-convert {\n",
              "      background-color: #E8F0FE;\n",
              "      border: none;\n",
              "      border-radius: 50%;\n",
              "      cursor: pointer;\n",
              "      display: none;\n",
              "      fill: #1967D2;\n",
              "      height: 32px;\n",
              "      padding: 0 0 0 0;\n",
              "      width: 32px;\n",
              "    }\n",
              "\n",
              "    .colab-df-convert:hover {\n",
              "      background-color: #E2EBFA;\n",
              "      box-shadow: 0px 1px 2px rgba(60, 64, 67, 0.3), 0px 1px 3px 1px rgba(60, 64, 67, 0.15);\n",
              "      fill: #174EA6;\n",
              "    }\n",
              "\n",
              "    .colab-df-buttons div {\n",
              "      margin-bottom: 4px;\n",
              "    }\n",
              "\n",
              "    [theme=dark] .colab-df-convert {\n",
              "      background-color: #3B4455;\n",
              "      fill: #D2E3FC;\n",
              "    }\n",
              "\n",
              "    [theme=dark] .colab-df-convert:hover {\n",
              "      background-color: #434B5C;\n",
              "      box-shadow: 0px 1px 3px 1px rgba(0, 0, 0, 0.15);\n",
              "      filter: drop-shadow(0px 1px 2px rgba(0, 0, 0, 0.3));\n",
              "      fill: #FFFFFF;\n",
              "    }\n",
              "  </style>\n",
              "\n",
              "    <script>\n",
              "      const buttonEl =\n",
              "        document.querySelector('#df-64f409c6-80ca-4af5-8898-efd3a3ab450e button.colab-df-convert');\n",
              "      buttonEl.style.display =\n",
              "        google.colab.kernel.accessAllowed ? 'block' : 'none';\n",
              "\n",
              "      async function convertToInteractive(key) {\n",
              "        const element = document.querySelector('#df-64f409c6-80ca-4af5-8898-efd3a3ab450e');\n",
              "        const dataTable =\n",
              "          await google.colab.kernel.invokeFunction('convertToInteractive',\n",
              "                                                    [key], {});\n",
              "        if (!dataTable) return;\n",
              "\n",
              "        const docLinkHtml = 'Like what you see? Visit the ' +\n",
              "          '<a target=\"_blank\" href=https://colab.research.google.com/notebooks/data_table.ipynb>data table notebook</a>'\n",
              "          + ' to learn more about interactive tables.';\n",
              "        element.innerHTML = '';\n",
              "        dataTable['output_type'] = 'display_data';\n",
              "        await google.colab.output.renderOutput(dataTable, element);\n",
              "        const docLink = document.createElement('div');\n",
              "        docLink.innerHTML = docLinkHtml;\n",
              "        element.appendChild(docLink);\n",
              "      }\n",
              "    </script>\n",
              "  </div>\n",
              "\n",
              "\n",
              "<div id=\"df-a9c1cbb2-2bb3-48cf-b8f9-2adbe2a1c611\">\n",
              "  <button class=\"colab-df-quickchart\" onclick=\"quickchart('df-a9c1cbb2-2bb3-48cf-b8f9-2adbe2a1c611')\"\n",
              "            title=\"Suggest charts\"\n",
              "            style=\"display:none;\">\n",
              "\n",
              "<svg xmlns=\"http://www.w3.org/2000/svg\" height=\"24px\"viewBox=\"0 0 24 24\"\n",
              "     width=\"24px\">\n",
              "    <g>\n",
              "        <path d=\"M19 3H5c-1.1 0-2 .9-2 2v14c0 1.1.9 2 2 2h14c1.1 0 2-.9 2-2V5c0-1.1-.9-2-2-2zM9 17H7v-7h2v7zm4 0h-2V7h2v10zm4 0h-2v-4h2v4z\"/>\n",
              "    </g>\n",
              "</svg>\n",
              "  </button>\n",
              "\n",
              "<style>\n",
              "  .colab-df-quickchart {\n",
              "      --bg-color: #E8F0FE;\n",
              "      --fill-color: #1967D2;\n",
              "      --hover-bg-color: #E2EBFA;\n",
              "      --hover-fill-color: #174EA6;\n",
              "      --disabled-fill-color: #AAA;\n",
              "      --disabled-bg-color: #DDD;\n",
              "  }\n",
              "\n",
              "  [theme=dark] .colab-df-quickchart {\n",
              "      --bg-color: #3B4455;\n",
              "      --fill-color: #D2E3FC;\n",
              "      --hover-bg-color: #434B5C;\n",
              "      --hover-fill-color: #FFFFFF;\n",
              "      --disabled-bg-color: #3B4455;\n",
              "      --disabled-fill-color: #666;\n",
              "  }\n",
              "\n",
              "  .colab-df-quickchart {\n",
              "    background-color: var(--bg-color);\n",
              "    border: none;\n",
              "    border-radius: 50%;\n",
              "    cursor: pointer;\n",
              "    display: none;\n",
              "    fill: var(--fill-color);\n",
              "    height: 32px;\n",
              "    padding: 0;\n",
              "    width: 32px;\n",
              "  }\n",
              "\n",
              "  .colab-df-quickchart:hover {\n",
              "    background-color: var(--hover-bg-color);\n",
              "    box-shadow: 0 1px 2px rgba(60, 64, 67, 0.3), 0 1px 3px 1px rgba(60, 64, 67, 0.15);\n",
              "    fill: var(--button-hover-fill-color);\n",
              "  }\n",
              "\n",
              "  .colab-df-quickchart-complete:disabled,\n",
              "  .colab-df-quickchart-complete:disabled:hover {\n",
              "    background-color: var(--disabled-bg-color);\n",
              "    fill: var(--disabled-fill-color);\n",
              "    box-shadow: none;\n",
              "  }\n",
              "\n",
              "  .colab-df-spinner {\n",
              "    border: 2px solid var(--fill-color);\n",
              "    border-color: transparent;\n",
              "    border-bottom-color: var(--fill-color);\n",
              "    animation:\n",
              "      spin 1s steps(1) infinite;\n",
              "  }\n",
              "\n",
              "  @keyframes spin {\n",
              "    0% {\n",
              "      border-color: transparent;\n",
              "      border-bottom-color: var(--fill-color);\n",
              "      border-left-color: var(--fill-color);\n",
              "    }\n",
              "    20% {\n",
              "      border-color: transparent;\n",
              "      border-left-color: var(--fill-color);\n",
              "      border-top-color: var(--fill-color);\n",
              "    }\n",
              "    30% {\n",
              "      border-color: transparent;\n",
              "      border-left-color: var(--fill-color);\n",
              "      border-top-color: var(--fill-color);\n",
              "      border-right-color: var(--fill-color);\n",
              "    }\n",
              "    40% {\n",
              "      border-color: transparent;\n",
              "      border-right-color: var(--fill-color);\n",
              "      border-top-color: var(--fill-color);\n",
              "    }\n",
              "    60% {\n",
              "      border-color: transparent;\n",
              "      border-right-color: var(--fill-color);\n",
              "    }\n",
              "    80% {\n",
              "      border-color: transparent;\n",
              "      border-right-color: var(--fill-color);\n",
              "      border-bottom-color: var(--fill-color);\n",
              "    }\n",
              "    90% {\n",
              "      border-color: transparent;\n",
              "      border-bottom-color: var(--fill-color);\n",
              "    }\n",
              "  }\n",
              "</style>\n",
              "\n",
              "  <script>\n",
              "    async function quickchart(key) {\n",
              "      const quickchartButtonEl =\n",
              "        document.querySelector('#' + key + ' button');\n",
              "      quickchartButtonEl.disabled = true;  // To prevent multiple clicks.\n",
              "      quickchartButtonEl.classList.add('colab-df-spinner');\n",
              "      try {\n",
              "        const charts = await google.colab.kernel.invokeFunction(\n",
              "            'suggestCharts', [key], {});\n",
              "      } catch (error) {\n",
              "        console.error('Error during call to suggestCharts:', error);\n",
              "      }\n",
              "      quickchartButtonEl.classList.remove('colab-df-spinner');\n",
              "      quickchartButtonEl.classList.add('colab-df-quickchart-complete');\n",
              "    }\n",
              "    (() => {\n",
              "      let quickchartButtonEl =\n",
              "        document.querySelector('#df-a9c1cbb2-2bb3-48cf-b8f9-2adbe2a1c611 button');\n",
              "      quickchartButtonEl.style.display =\n",
              "        google.colab.kernel.accessAllowed ? 'block' : 'none';\n",
              "    })();\n",
              "  </script>\n",
              "</div>\n",
              "    </div>\n",
              "  </div>\n"
            ],
            "application/vnd.google.colaboratory.intrinsic+json": {
              "type": "dataframe",
              "variable_name": "data",
              "summary": "{\n  \"name\": \"data\",\n  \"rows\": 480,\n  \"fields\": [\n    {\n      \"column\": \"car_model\",\n      \"properties\": {\n        \"dtype\": \"category\",\n        \"num_unique_values\": 98,\n        \"samples\": [\n          \"Chevrolet Onix Premier Turbo Hb\",\n          \"Chevrolet Onix 1.4 Premier Turbo At\",\n          \"Chevrolet Onix Turbo Premier\"\n        ],\n        \"semantic_type\": \"\",\n        \"description\": \"\"\n      }\n    },\n    {\n      \"column\": \"price\",\n      \"properties\": {\n        \"dtype\": \"number\",\n        \"std\": 26901314,\n        \"min\": 35000000,\n        \"max\": 595000002,\n        \"num_unique_values\": 160,\n        \"samples\": [\n          40000000,\n          45990000,\n          65900000\n        ],\n        \"semantic_type\": \"\",\n        \"description\": \"\"\n      }\n    },\n    {\n      \"column\": \"year_model\",\n      \"properties\": {\n        \"dtype\": \"number\",\n        \"std\": 1,\n        \"min\": 2016,\n        \"max\": 2024,\n        \"num_unique_values\": 9,\n        \"samples\": [\n          2018,\n          2019,\n          2017\n        ],\n        \"semantic_type\": \"\",\n        \"description\": \"\"\n      }\n    },\n    {\n      \"column\": \"kms\",\n      \"properties\": {\n        \"dtype\": \"number\",\n        \"std\": 26472,\n        \"min\": 0,\n        \"max\": 163000,\n        \"num_unique_values\": 296,\n        \"samples\": [\n          11300,\n          57000,\n          9200\n        ],\n        \"semantic_type\": \"\",\n        \"description\": \"\"\n      }\n    }\n  ]\n}"
            }
          },
          "metadata": {},
          "execution_count": 37
        }
      ]
    },
    {
      "cell_type": "code",
      "source": [
        "data.dtypes"
      ],
      "metadata": {
        "colab": {
          "base_uri": "https://localhost:8080/"
        },
        "id": "dc9teDT5CqED",
        "outputId": "fe396c97-bd7d-470e-a3b5-3ec1535b1a7f"
      },
      "execution_count": null,
      "outputs": [
        {
          "output_type": "execute_result",
          "data": {
            "text/plain": [
              "car_model     object\n",
              "price          int64\n",
              "year_model     int64\n",
              "kms            int64\n",
              "dtype: object"
            ]
          },
          "metadata": {},
          "execution_count": 38
        }
      ]
    },
    {
      "cell_type": "code",
      "source": [
        "# Eliminar la variable 'car_model'\n",
        "data = data.drop(columns=['car_model'])\n",
        "\n",
        "# Eliminar filas con valores faltantes en la columna 'price'\n",
        "data = data.dropna(subset=['price'])\n",
        "\n",
        "# Separar características (X) y variable objetivo (y)\n",
        "X = data.drop(columns=['price'])\n",
        "y = data['price']"
      ],
      "metadata": {
        "id": "IG1_H3m57XCb"
      },
      "execution_count": null,
      "outputs": []
    },
    {
      "cell_type": "code",
      "source": [
        "# Dividir datos en conjuntos de entrenamiento y prueba\n",
        "X_train, X_test, y_train, y_test = train_test_split(X, y, test_size=0.3, random_state=42)\n",
        "\n",
        "# Normalizar características\n",
        "scaler = StandardScaler()\n",
        "X_train = scaler.fit_transform(X_train)\n",
        "X_test = scaler.transform(X_test)"
      ],
      "metadata": {
        "id": "WY5McsHv-Iez"
      },
      "execution_count": null,
      "outputs": []
    },
    {
      "cell_type": "code",
      "source": [
        "# Definir y entrenar modelos\n",
        "model_lr = LinearRegression()\n",
        "model_dt = DecisionTreeRegressor()\n",
        "model_svr = SVR()\n",
        "\n",
        "model_lr.fit(X_train, y_train)\n",
        "model_dt.fit(X_train, y_train)\n",
        "model_svr.fit(X_train, y_train)\n",
        "\n",
        "# Generar predicciones\n",
        "y_pred_lr = model_lr.predict(X_test)\n",
        "y_pred_dt = model_dt.predict(X_test)\n",
        "y_pred_svr = model_svr.predict(X_test)"
      ],
      "metadata": {
        "id": "RHmKPXcr7at6"
      },
      "execution_count": null,
      "outputs": []
    },
    {
      "cell_type": "code",
      "source": [
        "# Calcular métricas de desempeño\n",
        "rmse_lr = mean_squared_error(y_test, y_pred_lr, squared=False)\n",
        "rmse_dt = mean_squared_error(y_test, y_pred_dt, squared=False)\n",
        "rmse_svr = mean_squared_error(y_test, y_pred_svr, squared=False)\n",
        "\n",
        "r2_lr = r2_score(y_test, y_pred_lr)\n",
        "r2_dt = r2_score(y_test, y_pred_dt)\n",
        "r2_svr = r2_score(y_test, y_pred_svr)"
      ],
      "metadata": {
        "id": "fnZ89Rm67eJa"
      },
      "execution_count": null,
      "outputs": []
    },
    {
      "cell_type": "code",
      "source": [
        "# Graficar resultados\n",
        "labels = ['LR', 'DT', 'SVR']\n",
        "rmse_scores = [rmse_lr, rmse_dt, rmse_svr]\n",
        "r2_scores = [r2_lr, r2_dt, r2_svr]\n",
        "\n",
        "plt.figure(figsize=(10, 5))\n",
        "plt.subplot(1, 2, 1)\n",
        "plt.bar(labels, rmse_scores)\n",
        "plt.title('Root Mean Squared Error (MSE)')\n",
        "plt.ylabel('RMSE')\n",
        "\n",
        "plt.subplot(1, 2, 2)\n",
        "plt.bar(labels, r2_scores)\n",
        "plt.title('R-squared (R2)')\n",
        "plt.ylabel('R2')\n",
        "\n",
        "plt.tight_layout()\n",
        "plt.show()\n",
        "\n",
        "# Imprimir métricas de desempeño\n",
        "print(\"RMSE:\")\n",
        "print(\"LR: %.2f\" % rmse_lr)\n",
        "print(\"DT: %.2f\" % rmse_dt)\n",
        "print(\"SVR: %.2f\" % rmse_svr)\n",
        "\n",
        "print(\"\\nR2:\")\n",
        "print(\"LR: %.2f\" % r2_lr)\n",
        "print(\"DT: %.2f\" % r2_dt)\n",
        "print(\"SVR: %.2f\" % r2_svr)"
      ],
      "metadata": {
        "colab": {
          "base_uri": "https://localhost:8080/",
          "height": 663
        },
        "id": "QkCV3ojX7ghi",
        "outputId": "bebde41c-8b7c-467a-8a3d-12d464ad51a8"
      },
      "execution_count": null,
      "outputs": [
        {
          "output_type": "display_data",
          "data": {
            "text/plain": [
              "<Figure size 1000x500 with 2 Axes>"
            ],
            "image/png": "[encoded data removed]"
          },
          "metadata": {}
        },
        {
          "output_type": "stream",
          "name": "stdout",
          "text": [
            "RMSE:\n",
            "LR: 5611685.27\n",
            "DT: 5534455.33\n",
            "SVR: 10161131.01\n",
            "\n",
            "R2:\n",
            "LR: 0.68\n",
            "DT: 0.69\n",
            "SVR: -0.05\n"
          ]
        }
      ]
    },
    {
      "cell_type": "markdown",
      "source": [
        "### Usando Modelos Probabilísticos:\n",
        "1.  Regresión Lineal Probabilística (PLR)\n",
        "2. Árboles de Decisión Probabilísticos (PDT)\n",
        "3. Modelos de Regresión Bayesianos (BR)"
      ],
      "metadata": {
        "id": "88nrGRz3FvCm"
      }
    },
    {
      "cell_type": "code",
      "source": [
        "import pandas as pd\n",
        "from sklearn.model_selection import train_test_split\n",
        "from sklearn.preprocessing import StandardScaler\n",
        "from sklearn.linear_model import BayesianRidge\n",
        "from sklearn.tree import DecisionTreeRegressor\n",
        "from sklearn.ensemble import RandomForestRegressor\n",
        "from sklearn.metrics import mean_squared_error, r2_score\n",
        "import matplotlib.pyplot as plt"
      ],
      "metadata": {
        "id": "EpZRD01SEkMu"
      },
      "execution_count": null,
      "outputs": []
    },
    {
      "cell_type": "code",
      "source": [
        "# Inicializar y entrenar los modelos\n",
        "model_plr = BayesianRidge()\n",
        "model_pdt = DecisionTreeRegressor()\n",
        "model_br = RandomForestRegressor()\n",
        "\n",
        "model_plr.fit(X_train, y_train)\n",
        "model_pdt.fit(X_train, y_train)\n",
        "model_br.fit(X_train, y_train)\n",
        "\n",
        "# Generar predicciones\n",
        "y_pred_plr = model_plr.predict(X_test)\n",
        "y_pred_pdt = model_pdt.predict(X_test)\n",
        "y_pred_br = model_br.predict(X_test)\n",
        "\n",
        "# Calcular métricas de desempeño\n",
        "rmse_plr = mean_squared_error(y_test, y_pred_plr, squared=False)\n",
        "rmse_pdt = mean_squared_error(y_test, y_pred_pdt, squared=False)\n",
        "rmse_br = mean_squared_error(y_test, y_pred_br, squared=False)\n",
        "\n",
        "r2_plr = r2_score(y_test, y_pred_plr)\n",
        "r2_pdt = r2_score(y_test, y_pred_pdt)\n",
        "r2_br = r2_score(y_test, y_pred_br)\n",
        "\n",
        "# Graficar resultados\n",
        "labels = ['PLR', 'PDT', 'BR']\n",
        "rmse_scores = [rmse_plr, rmse_pdt, rmse_br]\n",
        "r2_scores = [r2_plr, r2_pdt, r2_br]\n",
        "\n",
        "plt.figure(figsize=(10, 5))\n",
        "plt.subplot(1, 2, 1)\n",
        "plt.bar(labels, rmse_scores)\n",
        "plt.title('Root Mean Squared Error (MSE)')\n",
        "plt.ylabel('RMSE')\n",
        "\n",
        "plt.subplot(1, 2, 2)\n",
        "plt.bar(labels, r2_scores)\n",
        "plt.title('R-squared (R2)')\n",
        "plt.ylabel('R2')\n",
        "\n",
        "plt.tight_layout()\n",
        "plt.show()\n",
        "\n",
        "# Imprimir métricas de desempeño\n",
        "print(\"RMSE:\")\n",
        "print(\"PLR: %.2f\" % rmse_plr)\n",
        "print(\"PDT: %.2f\" % rmse_pdt)\n",
        "print(\"BR: %.2f\" % rmse_br)\n",
        "\n",
        "print(\"\\nR2:\")\n",
        "print(\"PLR: %.2f\" % r2_plr)\n",
        "print(\"PDT: %.2f\" % r2_pdt)\n",
        "print(\"BR: %.2f\" % r2_br)\n"
      ],
      "metadata": {
        "colab": {
          "base_uri": "https://localhost:8080/",
          "height": 663
        },
        "id": "1LJSYdgqFacP",
        "outputId": "b1a299bb-9a75-4968-80cc-6b31c3e032ac"
      },
      "execution_count": null,
      "outputs": [
        {
          "output_type": "display_data",
          "data": {
            "text/plain": [
              "<Figure size 1000x500 with 2 Axes>"
            ],
            "image/png": "[encoded data removed]"
          },
          "metadata": {}
        },
        {
          "output_type": "stream",
          "name": "stdout",
          "text": [
            "RMSE:\n",
            "PLR: 9938111.50\n",
            "PDT: 5531568.61\n",
            "BR: 4902414.43\n",
            "\n",
            "R2:\n",
            "PLR: -0.00\n",
            "PDT: 0.69\n",
            "BR: 0.76\n"
          ]
        }
      ]
    },
    {
      "cell_type": "markdown",
      "source": [
        "## Caso de estudio \\#2: Predicción Precios Apartamentos Bogotá"
      ],
      "metadata": {
        "id": "qUEw9vVNJMxZ"
      }
    },
    {
      "cell_type": "code",
      "source": [
        "import pandas as pd\n",
        "from sklearn.model_selection import train_test_split\n",
        "from sklearn.preprocessing import StandardScaler\n",
        "from sklearn.linear_model import BayesianRidge\n",
        "from sklearn.tree import DecisionTreeRegressor\n",
        "from sklearn.ensemble import RandomForestRegressor\n",
        "from sklearn.metrics import mean_squared_error, r2_score\n",
        "import matplotlib.pyplot as plt"
      ],
      "metadata": {
        "id": "kZS6zZuMKkVy"
      },
      "execution_count": null,
      "outputs": []
    },
    {
      "cell_type": "code",
      "source": [
        "# Cargar los datos\n",
        "url = \"https://raw.githubusercontent.com/ebuitrago/ETITC_DataScience_Electives/main/data/data_fincaraiz2023_clean.csv\"\n",
        "data = pd.read_csv(url)\n",
        "\n",
        "# Eliminar filas con valores faltantes en la columna 'precio'\n",
        "data = data.dropna(subset=['precio'])\n",
        "\n",
        "# Separar características (X) y variable objetivo (y)\n",
        "X = data.drop(columns=['precio'])\n",
        "y = data['precio']\n",
        "\n",
        "# Dividir datos en conjuntos de entrenamiento y prueba\n",
        "X_train, X_test, y_train, y_test = train_test_split(X, y, test_size=0.2, random_state=42)\n",
        "\n",
        "# Normalizar características\n",
        "scaler = StandardScaler()\n",
        "X_train = scaler.fit_transform(X_train)\n",
        "X_test = scaler.transform(X_test)\n",
        "\n",
        "# Inicializar y entrenar los modelos\n",
        "model_plr = BayesianRidge()\n",
        "model_pdt = DecisionTreeRegressor()\n",
        "model_br = RandomForestRegressor()\n",
        "\n",
        "model_plr.fit(X_train, y_train)\n",
        "model_pdt.fit(X_train, y_train)\n",
        "model_br.fit(X_train, y_train)\n",
        "\n",
        "# Generar predicciones\n",
        "y_pred_plr = model_plr.predict(X_test)\n",
        "y_pred_pdt = model_pdt.predict(X_test)\n",
        "y_pred_br = model_br.predict(X_test)"
      ],
      "metadata": {
        "id": "eVEp34-0Nrrl"
      },
      "execution_count": null,
      "outputs": []
    },
    {
      "cell_type": "code",
      "source": [
        "\n",
        "# Calcular métricas de desempeño\n",
        "rmse_plr = mean_squared_error(y_test, y_pred_plr, squared=False)\n",
        "rmse_pdt = mean_squared_error(y_test, y_pred_pdt, squared=False)\n",
        "rmse_br = mean_squared_error(y_test, y_pred_br, squared=False)\n",
        "\n",
        "r2_plr = r2_score(y_test, y_pred_plr)\n",
        "r2_pdt = r2_score(y_test, y_pred_pdt)\n",
        "r2_br = r2_score(y_test, y_pred_br)\n",
        "\n",
        "# Imprimir métricas de desempeño\n",
        "print(\"RMSE:\")\n",
        "print(\"PLR: %.2f\" % rmse_plr)\n",
        "print(\"PDT: %.2f\" % rmse_pdt)\n",
        "print(\"BR: %.2f\" % rmse_br)\n",
        "\n",
        "print(\"\\nR2:\")\n",
        "print(\"PLR: %.2f\" % r2_plr)\n",
        "print(\"PDT: %.2f\" % r2_pdt)\n",
        "print(\"BR: %.2f\" % r2_br)\n"
      ],
      "metadata": {
        "colab": {
          "base_uri": "https://localhost:8080/"
        },
        "id": "m6piTLbtNob_",
        "outputId": "35f5d2ac-0ead-4fb2-b300-61576658f2ef"
      },
      "execution_count": null,
      "outputs": [
        {
          "output_type": "stream",
          "name": "stdout",
          "text": [
            "RMSE:\n",
            "PLR: 684181695.04\n",
            "PDT: 206693313.50\n",
            "BR: 125979202.84\n",
            "\n",
            "R2:\n",
            "PLR: -0.00\n",
            "PDT: 0.91\n",
            "BR: 0.97\n"
          ]
        }
      ]
    },
    {
      "cell_type": "markdown",
      "source": [
        "## Optimización de hiperparámetros para el mejor modelo (PDT)"
      ],
      "metadata": {
        "id": "TDRZ91pYSgCM"
      }
    },
    {
      "cell_type": "code",
      "source": [
        "from sklearn.model_selection import GridSearchCV"
      ],
      "metadata": {
        "id": "M68RW-SATLp-"
      },
      "execution_count": null,
      "outputs": []
    },
    {
      "cell_type": "code",
      "source": [
        "# Definir los hiperparámetros a ajustar\n",
        "param_grid = {\n",
        "    'max_depth': [None, 10, 20, 30],\n",
        "    'min_samples_split': [2, 5, 10],\n",
        "    'min_samples_leaf': [1, 2, 4, 5, 7],\n",
        "    'max_features': ['auto', 'sqrt', 'log2']\n",
        "}\n",
        "\n",
        "# Inicializar el modelo PDT\n",
        "model_pdt_opt = DecisionTreeRegressor(random_state=42)\n",
        "\n",
        "# Realizar búsqueda de cuadrícula de hiperparámetros\n",
        "grid_search = GridSearchCV(estimator=model_pdt_opt, param_grid=param_grid, cv=5, scoring='neg_mean_squared_error', n_jobs=-1)\n",
        "grid_search.fit(X_train, y_train)\n",
        "\n",
        "# Obtener los mejores hiperparámetros\n",
        "best_params = grid_search.best_params_\n",
        "print(\"Mejores hiperparámetros encontrados:\", best_params)\n",
        "\n",
        "# Entrenar el modelo con los mejores hiperparámetros\n",
        "best_model = grid_search.best_estimator_\n",
        "best_model.fit(X_train, y_train)\n",
        "\n",
        "# Generar predicciones con el mejor modelo\n",
        "preds = best_model.predict(X_test)\n",
        "\n",
        "# Calcular métricas de desempeño\n",
        "rmse = mean_squared_error(y_test, preds, squared=False)\n",
        "r2 = r2_score(y_test, preds)\n",
        "\n",
        "# Imprimir métricas de desempeño\n",
        "print(\"\\nRMSE con optimización de hiperparámetros:\", rmse)\n",
        "print(\"R2 con optimización de hiperparámetros:\", r2)\n"
      ],
      "metadata": {
        "colab": {
          "base_uri": "https://localhost:8080/"
        },
        "id": "iKCTrXgHSlIl",
        "outputId": "2f66a372-140e-4cd9-b843-b4b352a7c489"
      },
      "execution_count": null,
      "outputs": [
        {
          "output_type": "stream",
          "name": "stdout",
          "text": [
            "Mejores hiperparámetros encontrados: {'max_depth': 20, 'max_features': 'auto', 'min_samples_leaf': 4, 'min_samples_split': 2}\n",
            "\n",
            "RMSE con optimización de hiperparámetros: 167950512.69498625\n",
            "R2 con optimización de hiperparámetros: 0.9397269423643191\n"
          ]
        },
        {
          "output_type": "stream",
          "name": "stderr",
          "text": [
            "/usr/local/lib/python3.10/dist-packages/sklearn/tree/_classes.py:277: FutureWarning: `max_features='auto'` has been deprecated in 1.1 and will be removed in 1.3. To keep the past behaviour, explicitly set `max_features=1.0'`.\n",
            "  warnings.warn(\n",
            "/usr/local/lib/python3.10/dist-packages/sklearn/tree/_classes.py:277: FutureWarning: `max_features='auto'` has been deprecated in 1.1 and will be removed in 1.3. To keep the past behaviour, explicitly set `max_features=1.0'`.\n",
            "  warnings.warn(\n"
          ]
        }
      ]
    }
  ]
}