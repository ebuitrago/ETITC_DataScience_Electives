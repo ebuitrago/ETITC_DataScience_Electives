{
  "nbformat": 4,
  "nbformat_minor": 0,
  "metadata": {
    "colab": {
      "provenance": [],
      "authorship_tag": "ABX9TyMoJ14hIoK5LRfnfGUDV9Uf",
      "include_colab_link": true
    },
    "kernelspec": {
      "name": "python3",
      "display_name": "Python 3"
    },
    "language_info": {
      "name": "python"
    }
  },
  "cells": [
    {
      "cell_type": "markdown",
      "metadata": {
        "id": "view-in-github",
        "colab_type": "text"
      },
      "source": [
        "<a href=\"https://colab.research.google.com/github/ebuitrago/ETITC_DataScience_Electives/blob/main/Cars_Price_Pred_Deployment.ipynb\" target=\"_parent\"><img src=\"https://colab.research.google.com/assets/colab-badge.svg\" alt=\"Open In Colab\"/></a>"
      ]
    },
    {
      "cell_type": "code",
      "execution_count": null,
      "metadata": {
        "id": "HWdb3T2W-sRz"
      },
      "outputs": [],
      "source": [
        "!pip install flask"
      ]
    },
    {
      "cell_type": "code",
      "source": [
        "import numpy as np\n",
        "from flask import Flask, request, jsonify, render_template\n",
        "import pickle\n",
        "\n",
        "# Load the model\n",
        "model_path = 'model3.pkl'  # Adjust the path if needed\n",
        "with open(model_path, 'rb') as file:\n",
        "    model = pickle.load(file)\n"
      ],
      "metadata": {
        "id": "lOJIbBGn-ubA"
      },
      "execution_count": null,
      "outputs": []
    },
    {
      "cell_type": "code",
      "source": [
        "# Run this cell to create the templates directory and add the HTML file\n",
        "import os\n",
        "\n",
        "# Create a templates directory\n",
        "if not os.path.exists('templates'):\n",
        "    os.makedirs('templates')\n",
        "\n",
        "# Create an index.html file inside the templates directory\n",
        "html_content = \"\"\"\n",
        "<!DOCTYPE html>\n",
        "<html>\n",
        "<head>\n",
        "    <title>Car Price Prediction</title>\n",
        "</head>\n",
        "<body>\n",
        "    <h1>Enter Car Features</h1>\n",
        "    <form method=\"post\" action=\"/predict\">\n",
        "        <label for=\"feature1\">Year:</label>\n",
        "        <input type=\"text\" id=\"feature1\" name=\"feature1\"><br><br>\n",
        "        <label for=\"feature2\">Millage:</label>\n",
        "        <input type=\"text\" id=\"feature2\" name=\"feature2\"><br><br>\n",
        "        <label for=\"feature3\">Color:</label>\n",
        "        <input type=\"text\" id=\"feature3\" name=\"feature3\"><br><br>\n",
        "        <label for=\"feature4\">Fuel:</label>\n",
        "        <input type=\"text\" id=\"feature4\" name=\"feature4\"><br><br>\n",
        "        <input type=\"submit\" value=\"Predict\">\n",
        "    </form>\n",
        "</body>\n",
        "</html>\n",
        "\"\"\"\n",
        "with open('templates/index.html', 'w') as f:\n",
        "    f.write(html_content)"
      ],
      "metadata": {
        "id": "yD1A9Frx-xML"
      },
      "execution_count": null,
      "outputs": []
    },
    {
      "cell_type": "code",
      "source": [
        "app = Flask(__name__)\n",
        "\n",
        "@app.route(\"/\")\n",
        "def index():\n",
        "    return render_template(\"index.html\")\n"
      ],
      "metadata": {
        "id": "f3pecPKg-zHI"
      },
      "execution_count": null,
      "outputs": []
    },
    {
      "cell_type": "code",
      "source": [
        "@app.route('/predict', methods=['GET', 'POST'])\n",
        "def predict():\n",
        "    if request.method == 'POST':\n",
        "        # Retrieve data from form\n",
        "        feature1 = request.form['feature1']\n",
        "        feature2 = request.form['feature2']\n",
        "        feature3 = request.form['feature3']\n",
        "        feature4 = request.form['feature4']\n",
        "\n",
        "        # Example: Convert data to float and make a dummy prediction\n",
        "        data = np.array([float(feature1), float(feature2), float(feature3), float(feature4)]).reshape(1, -1)\n",
        "        # prediction = sum(data)  # Dummy operation for demonstration\n",
        "        predicted_price = model.predict(data)\n",
        "        print(predicted_price)\n",
        "\n",
        "\n",
        "        # Return prediction result to the user\n",
        "        return jsonify({'prediction': predicted_price.tolist()})\n",
        "    return render_template(\"index.html\")\n"
      ],
      "metadata": {
        "id": "R7yGN4e--1I4"
      },
      "execution_count": null,
      "outputs": []
    },
    {
      "cell_type": "code",
      "source": [
        "!nohup ssh -p 443 -o StrictHostKeyChecking=no -R0:localhost:5000 a.pinggy.io -T &"
      ],
      "metadata": {
        "colab": {
          "base_uri": "https://localhost:8080/"
        },
        "id": "cP4YhDpz-3A3",
        "outputId": "7eaeb887-cf6c-46c0-e64c-890aaaa7fd35"
      },
      "execution_count": null,
      "outputs": [
        {
          "output_type": "stream",
          "name": "stdout",
          "text": [
            "nohup: appending output to 'nohup.out'\n"
          ]
        }
      ]
    },
    {
      "cell_type": "code",
      "source": [
        "!cat nohup.out"
      ],
      "metadata": {
        "colab": {
          "base_uri": "https://localhost:8080/"
        },
        "id": "9ugdvDWD-4dj",
        "outputId": "83aac6d4-0a19-47ff-c3aa-5a9c626743a6"
      },
      "execution_count": null,
      "outputs": [
        {
          "output_type": "stream",
          "name": "stdout",
          "text": [
            "Warning: Permanently added '[a.pinggy.io]:443' (RSA) to the list of known hosts.\r\n"
          ]
        }
      ]
    },
    {
      "cell_type": "code",
      "source": [
        "if __name__ == \"__main__\":\n",
        "    app.run(port=5000)\n"
      ],
      "metadata": {
        "colab": {
          "base_uri": "https://localhost:8080/"
        },
        "id": "WivXtZgK-44O",
        "outputId": "2a4ba7a6-4d22-4d46-a6b9-fe549607dd2f"
      },
      "execution_count": null,
      "outputs": [
        {
          "output_type": "stream",
          "name": "stdout",
          "text": [
            " * Serving Flask app '__main__'\n",
            " * Debug mode: off\n"
          ]
        },
        {
          "output_type": "stream",
          "name": "stderr",
          "text": [
            "INFO:werkzeug:\u001b[31m\u001b[1mWARNING: This is a development server. Do not use it in a production deployment. Use a production WSGI server instead.\u001b[0m\n",
            " * Running on http://127.0.0.1:5000\n",
            "INFO:werkzeug:\u001b[33mPress CTRL+C to quit\u001b[0m\n",
            "INFO:werkzeug:127.0.0.1 - - [24/Jun/2024 07:09:25] \"GET / HTTP/1.1\" 200 -\n",
            "INFO:werkzeug:127.0.0.1 - - [24/Jun/2024 07:09:33] \"GET / HTTP/1.1\" 200 -\n",
            "INFO:werkzeug:127.0.0.1 - - [24/Jun/2024 07:09:34] \"GET / HTTP/1.1\" 200 -\n",
            "INFO:werkzeug:127.0.0.1 - - [24/Jun/2024 07:09:45] \"POST /predict HTTP/1.1\" 200 -\n"
          ]
        },
        {
          "output_type": "stream",
          "name": "stdout",
          "text": [
            "[64480000.]\n"
          ]
        },
        {
          "output_type": "stream",
          "name": "stderr",
          "text": [
            "INFO:werkzeug:127.0.0.1 - - [24/Jun/2024 07:10:10] \"POST /predict HTTP/1.1\" 200 -\n"
          ]
        },
        {
          "output_type": "stream",
          "name": "stdout",
          "text": [
            "[64818000.]\n"
          ]
        },
        {
          "output_type": "stream",
          "name": "stderr",
          "text": [
            "INFO:werkzeug:127.0.0.1 - - [24/Jun/2024 07:10:35] \"POST /predict HTTP/1.1\" 200 -\n"
          ]
        },
        {
          "output_type": "stream",
          "name": "stdout",
          "text": [
            "[64465000.]\n"
          ]
        },
        {
          "output_type": "stream",
          "name": "stderr",
          "text": [
            "INFO:werkzeug:127.0.0.1 - - [24/Jun/2024 07:10:43] \"POST /predict HTTP/1.1\" 200 -\n"
          ]
        },
        {
          "output_type": "stream",
          "name": "stdout",
          "text": [
            "[64465000.]\n"
          ]
        },
        {
          "output_type": "stream",
          "name": "stderr",
          "text": [
            "INFO:werkzeug:127.0.0.1 - - [24/Jun/2024 07:11:02] \"POST /predict HTTP/1.1\" 200 -\n"
          ]
        },
        {
          "output_type": "stream",
          "name": "stdout",
          "text": [
            "[64480000.]\n"
          ]
        }
      ]
    }
  ]
}